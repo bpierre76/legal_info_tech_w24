{
  "nbformat": 4,
  "nbformat_minor": 0,
  "metadata": {
    "colab": {
      "provenance": [],
      "authorship_tag": "ABX9TyMbHwV9yO9xJU2qUacVFVOI",
      "include_colab_link": true
    },
    "kernelspec": {
      "name": "python3",
      "display_name": "Python 3"
    },
    "language_info": {
      "name": "python"
    }
  },
  "cells": [
    {
      "cell_type": "markdown",
      "metadata": {
        "id": "view-in-github",
        "colab_type": "text"
      },
      "source": [
        "<a href=\"https://colab.research.google.com/github/srehaag/legal_info_tech_w24/blob/main/Module1_Assignment.ipynb\" target=\"_parent\"><img src=\"https://colab.research.google.com/assets/colab-badge.svg\" alt=\"Open In Colab\"/></a>"
      ]
    },
    {
      "cell_type": "markdown",
      "source": [
        "# Module 1: Assignment"
      ],
      "metadata": {
        "id": "j53IMWZWhfDK"
      }
    },
    {
      "cell_type": "markdown",
      "source": [
        "## Instructions\n",
        "\n",
        "Everyone should attempt to complete the beginner section. If you are interested you can continue to intermediate and advanced. Whether you choose to go beyond the beginner section will not affect your participation grade, but some of the skills you learn (or relearn) may be helpful for your final project for the course.\n",
        "\n",
        "\n",
        "In addiction, everyone should complete the final reflection section.\n",
        "\n",
        "\n",
        "Combined, the lesson and assignment should not take you more than three hours -- so if you get to that point, just move on to the reflective section.\n",
        "\n",
        "\n",
        "When you have finished, upload a copy of the .ipynb file to eClass assignment page."
      ],
      "metadata": {
        "id": "SBuT-jilhhaa"
      }
    },
    {
      "cell_type": "markdown",
      "source": [
        "## Beginner"
      ],
      "metadata": {
        "id": "1MqdEStpjxTi"
      }
    },
    {
      "cell_type": "markdown",
      "source": [
        "### Beginner Question 1:\n",
        "\n",
        "Using the code cell below, print Hello World."
      ],
      "metadata": {
        "id": "fp6BDkzWibvp"
      }
    },
    {
      "cell_type": "code",
      "source": [],
      "metadata": {
        "id": "GvFJLRaxibBC"
      },
      "execution_count": null,
      "outputs": []
    },
    {
      "cell_type": "markdown",
      "source": [
        "### Beginner Question 2:\n",
        "\n",
        "In 1867 Canada was established through the Constitution Act, 1867 (formerly known as the British North America Act). In 1982, Canada repatriated its constitution through the Constitution Act, 1982 (assume for the sake of simplicity that they came into effect on the same day of the year).\n",
        "\n",
        "In the code cell below, create a variable with the year Canada was established.\n",
        "\n",
        "Then create a variable with the year the Constitution was repatriated.\n",
        "\n",
        "Then create a variable that stores the calculated result of the number of years between the first and second variable.\n",
        "\n",
        "Then print: \"Canada's constitution was repatriated # years after the country was first established\"."
      ],
      "metadata": {
        "id": "qLsPjUNepZgS"
      }
    },
    {
      "cell_type": "code",
      "source": [],
      "metadata": {
        "id": "YQEb0c9xpYtK"
      },
      "execution_count": null,
      "outputs": []
    },
    {
      "cell_type": "markdown",
      "source": [
        "### Beginner Question 3:\n",
        "\n",
        "The code cell below includes a list of judges deciding five cases. Using this list, produce this output using the print function:\n",
        "\n",
        "Justice Campbell\n",
        "\n",
        "Justice Crampton\n",
        "\n",
        "Justice Grammond... etc\n"
      ],
      "metadata": {
        "id": "WJm5ZIaime-S"
      }
    },
    {
      "cell_type": "code",
      "source": [
        "list_of_judges = [\n",
        "    'Campbell',\n",
        "    'Crampton',\n",
        "    'Grammond',\n",
        "    'Ahmed',\n",
        "    'Pallotta'\n",
        "]\n"
      ],
      "metadata": {
        "id": "cwptkzOKnGQC"
      },
      "execution_count": null,
      "outputs": []
    },
    {
      "cell_type": "markdown",
      "source": [
        "### Beginner Question 4:\n",
        "\n",
        "Using the same list as for the prior question, produce the same output as before, but for Crampton indicate \"Chief Justice Crampton\" rather than Justice Crampton. The outputs for the other judges should remain the same."
      ],
      "metadata": {
        "id": "oyOio2R1pc3p"
      }
    },
    {
      "cell_type": "code",
      "source": [],
      "metadata": {
        "id": "wI07-JsxpdAR"
      },
      "execution_count": null,
      "outputs": []
    },
    {
      "cell_type": "markdown",
      "source": [
        "### Beginner Question 5:\n",
        "\n",
        "Run the code cell below. It should produce an error message. Fix the code and run it."
      ],
      "metadata": {
        "id": "bnBydme8pgJx"
      }
    },
    {
      "cell_type": "code",
      "source": [
        "# Check if 2024 in citation\n",
        "\n",
        "citation = 2023 SCC 17\n",
        "\n",
        "if \"2024\" in citation:\n",
        "print(\"Yes 2024 is in the citation\")\n",
        "else:\n",
        "print(\"No, 2024 is not in the citation\")"
      ],
      "metadata": {
        "id": "fJ7PTXErpgRp"
      },
      "execution_count": null,
      "outputs": []
    },
    {
      "cell_type": "markdown",
      "source": [
        "## Intermediate"
      ],
      "metadata": {
        "id": "K8jpa6OkR29O"
      }
    },
    {
      "cell_type": "markdown",
      "source": [
        "### Intermediate Question 1:\n",
        "\n",
        "Using the same list of judges as above, print the following output:\n",
        "\n",
        "Case 1: Justice Campbell\n",
        "\n",
        "Case 2: Chief Justice Crampton\n",
        "\n",
        "Case 3: Justice Grammond... etc"
      ],
      "metadata": {
        "id": "S1RF_ZanSC19"
      }
    },
    {
      "cell_type": "code",
      "source": [],
      "metadata": {
        "id": "aBQn4UVjSC_F"
      },
      "execution_count": null,
      "outputs": []
    },
    {
      "cell_type": "markdown",
      "source": [
        "### Intermediate Question 2:\n",
        "\n",
        "The code cell below includes a dictionary with the highest neutral citation for Federal Court cases for several years. For example in 2020, neutral citations go from \"2020 FC 1\" to \"2020 FC 6805\". In other words, the first federal court case in 2020 is \"2020 FC 1\", the second is \"2020 FC 2\", and so on until \"2020 FC 6805\".\n",
        "\n",
        "Create a variable with list of all neutral citations from 2013 to 2022 (no need to print out that list). You can imagine that this list would be used to scrape each decision from the federal court website.\n"
      ],
      "metadata": {
        "id": "LJzGVAYATBUt"
      }
    },
    {
      "cell_type": "code",
      "source": [
        "highest_neutral_citation =  {\n",
        "    2013: 8428,\n",
        "    2014: 8508,\n",
        "    2015: 5901,\n",
        "    2016: 5412,\n",
        "    2017: 5641,\n",
        "    2018: 6616,\n",
        "    2019: 7910,\n",
        "    2020: 6805,\n",
        "    2021: 9832,\n",
        "    2022: 13672\n",
        "}\n",
        "\n"
      ],
      "metadata": {
        "id": "BWJPqqs7TBc1"
      },
      "execution_count": null,
      "outputs": []
    },
    {
      "cell_type": "markdown",
      "source": [
        "### Intermediate Question 3:\n",
        "\n",
        "Run the code cell below. It should produce an error message. Fix the code and run it."
      ],
      "metadata": {
        "id": "Zgq5qhX3kHWK"
      }
    },
    {
      "cell_type": "code",
      "execution_count": null,
      "metadata": {
        "id": "-BKC_Qgbe5_v"
      },
      "outputs": [],
      "source": [
        "# Create function to ask for the user's name, then and say hello user's name\n",
        "\n",
        "def get_name()\n",
        "  name = input('What is your name? ')\n",
        "  return name\n",
        "\n",
        "Print(Hello + get_name())\n"
      ]
    },
    {
      "cell_type": "markdown",
      "source": [
        "## Advanced"
      ],
      "metadata": {
        "id": "0siJHftyXBuG"
      }
    },
    {
      "cell_type": "markdown",
      "source": [
        "### Advanced Question 1:\n",
        "\n",
        "For some data science projects where there are many repeated steps (e.g. webscraping thousands of webpages, transforming text in thousands of court cases) it is helpful to run code in parallel.\n",
        "\n",
        "Complete the code below.\n",
        "\n",
        "The first cell just creates an example function. It doesn't do anything other that wait a fraction of a second. But imagine that we might replace this with code that processes the text of a court case in some way.\n",
        "\n",
        "In the second cell, write a for loop that calls the example function for each case in the list of cases you put together for Intermediate Question 2.\n",
        "\n",
        "Finally, in the third cell modify the code from the second cell to run the same process in parallel. Compare how long it takes to run."
      ],
      "metadata": {
        "id": "8o0QVsYOXAH2"
      }
    },
    {
      "cell_type": "code",
      "source": [
        "# Example function\n",
        "import time\n",
        "\n",
        "def example_function(case):\n",
        "  time.sleep(0.0001)\n",
        "  return None\n"
      ],
      "metadata": {
        "id": "QArDlpidXAV2"
      },
      "execution_count": 7,
      "outputs": []
    },
    {
      "cell_type": "code",
      "source": [
        "# For loop calling example function against list of cases from Intermediate Question 2\n",
        "\n"
      ],
      "metadata": {
        "id": "Y483oq8qZ_au"
      },
      "execution_count": 8,
      "outputs": []
    },
    {
      "cell_type": "code",
      "source": [
        "# Same task as in the last cell, but run it in parallel\n"
      ],
      "metadata": {
        "id": "5l2DurgWaoFl"
      },
      "execution_count": null,
      "outputs": []
    },
    {
      "cell_type": "markdown",
      "source": [
        "### Advanced Question 2:\n",
        "\n",
        "Search for coding exercises that you have completed in the past, perhaps for a course. If you don't have any on hand, you can find some problem sets in Harvard's [CS50](https://cs50.harvard.edu/python/2022). Use generative AI prompts (in Colab's generate with AI function, Github's CoPilot, or OpenAI's ChatGPT) to create code that solves the problem. Does the code provided work? Is it similar to how you would have solved the problem? Paste one example below."
      ],
      "metadata": {
        "id": "73qH81H1CkIF"
      }
    },
    {
      "cell_type": "code",
      "source": [],
      "metadata": {
        "id": "cTDVXOCwELgV"
      },
      "execution_count": null,
      "outputs": []
    },
    {
      "cell_type": "markdown",
      "source": [
        "## Reflection\n",
        "\n",
        "Add a markdown (text) cell below and describe something that you learned in completing this module that you found challenging or interesting and explain why (approx 200-400 words). Try to use formatting (headings, etc)."
      ],
      "metadata": {
        "id": "6R2dPDd7i81B"
      }
    }
  ]
}